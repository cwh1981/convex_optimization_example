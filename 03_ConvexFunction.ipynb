{
 "cells": [
  {
   "cell_type": "markdown",
   "metadata": {},
   "source": [
    "## 03. Convex function의 의 정의와 예제, 주요 속성, Convexity를 유지하는 연산"
   ]
  },
  {
   "attachments": {
    "image.png": {
     "image/png": "[encoded data removed]"
    }
   },
   "cell_type": "markdown",
   "metadata": {},
   "source": [
    "### Convex Function\n",
    "\n",
    " : https://scipy-lectures.org/advanced/mathematical_optimization/auto_examples/plot_convex.html\n",
    "\n",
    "- 정의 : 함수 f:Rn→R의 정의역이 convex set이고, 임의의 두점 x,y∈dom f를 잇는 선분 위의 모든 점들이 함수 f 위의 점들보다 위에 있다면 그 함수 f는 convex 이다.\n",
    "- f(θx+(1−θ)f(x))≤θf(x)+(1−θ)f(y), with 0≤θ≤1, for all x,y∈dom f\n",
    "- A = (x,f(x)), B = (y, f(y))\n",
    "\n",
    "q1. θx+(1−θ)f(x)의 구간 합이 왜 1이 되어야 하는지?? 그리고 제약이 0<=θ<=1인지??\n",
    "=> 아래 값이 되기 위해서 필요한 것으로 보임\n",
    "\n",
    "### Convex Fnction 속성\n",
    "- f가 convex 이면 그 epigraph는 convex set이고, 그 역도 성립한다.\n",
    "- f가 convex이면, 그 sublevel set 도 convex\n",
    "- First-order characterization : f 의 도메인 dom f가 convex이고, 함수 f의 도메인에 속하는 임의의 x,y 에 대하여 f(y)≥f(x)+∇f(x)T(y−x) 가 성립하면 함수 f는 convex 이며 그 역도 성립한다.\n",
    "- Second-order characterization : \n",
    " - 정의역이 convex 인 함수 f의 2차 미분이 0보다 크거나 같을 경우, 함수 f는 convex 이며, 그 역 또한 성립한다.\n",
    " - 함수 f의 2차 미분이 0보다 클 경우, 함수 f는 strictly convex 이다.(기울기 변화가 항상 양수)\n",
    "- Jensen's inequality\n",
    " - 함수 f가 convex 이고 n개의 양수 w1,...,wn에 대하여 ∑ni=1wi=1 이라 하자. 이 때 다음이 성립한다.\n",
    " - ∑ni=1wif(xi)≥f(∑ni=1wixi)\n",
    " - 함수 f가 convex 이면 다음 부등식을 만족한다.\n",
    " - f(tx1+(1−t)x2)≤tf(x1)+(1−t)f(x2), for 0≤t≤1\n",
    "  - q1 : t와 1-t 를 나누어서 평균한다. ![image.png](attachment:image.png)조건\n",
    "\n",
    "### Concave Function\n",
    "- 정의 : 함수 −f가 convex이면, f는 concave라고 한다."
   ]
  },
  {
   "cell_type": "code",
   "execution_count": 1,
   "metadata": {},
   "outputs": [
    {
     "data": {
      "image/png": "[encoded data removed]",
      "text/plain": [
       "<Figure size 216x180 with 1 Axes>"
      ]
     },
     "metadata": {
      "needs_background": "light"
     },
     "output_type": "display_data"
    },
    {
     "data": {
      "image/png": "[encoded data removed]",
      "text/plain": [
       "<Figure size 216x180 with 1 Axes>"
      ]
     },
     "metadata": {
      "needs_background": "light"
     },
     "output_type": "display_data"
    }
   ],
   "source": [
    "import numpy as np\n",
    "import matplotlib.pyplot as plt\n",
    "\n",
    "x = np.linspace(-1, 2)\n",
    "\n",
    "plt.figure(1, figsize=(3, 2.5))\n",
    "plt.clf()\n",
    "\n",
    "# A convex function\n",
    "plt.plot(x, x**2, linewidth=2)\n",
    "plt.text(-.7, -.6**2, '$f$', size=20)\n",
    "\n",
    "# The tangent in one point\n",
    "plt.plot(x, 2*x - 1)\n",
    "plt.plot(1, 1, 'k+')\n",
    "plt.text(.3, -.75, \"Tangent to $f$\", size=15)\n",
    "plt.text(1, 1 - .5, 'C', size=15)\n",
    "\n",
    "# Convexity as barycenter\n",
    "plt.plot([.35, 1.85], [.35**2, 1.85**2])\n",
    "plt.plot([.35, 1.85], [.35**2, 1.85**2], 'k+')\n",
    "plt.text(.35 - .2, .35**2 + .1, 'A', size=15)\n",
    "plt.text(1.85 - .2, 1.85**2, 'B', size=15)\n",
    "\n",
    "plt.ylim(ymin=-1)\n",
    "plt.axis('off')\n",
    "plt.tight_layout()\n",
    "\n",
    "# Convexity as barycenter\n",
    "plt.figure(2, figsize=(3, 2.5))\n",
    "plt.clf()\n",
    "plt.plot(x, x**2 + np.exp(-5*(x - .5)**2), linewidth=2)\n",
    "plt.text(-.7, -.6**2, '$f$', size=20)\n",
    "\n",
    "plt.ylim(ymin=-1)\n",
    "plt.axis('off')\n",
    "plt.tight_layout()\n",
    "plt.show()"
   ]
  },
  {
   "cell_type": "markdown",
   "metadata": {},
   "source": [
    "### Strictly Convex\n",
    "- 정의 : 함수 f:Rn→R가 임의의 서로 다른 두 점 x,y∈dom f 과 0<θ<1에 대해 다음의 조건을 만족하면 이를 strictly convex 이라 한다.\n",
    "- f(θx+(1−θ)y)<θf(x)+(1−θ)f(y), with 0<θ<1, x≠y, for all x,y∈dom f\n",
    "\n",
    "### Strongly Convex\n",
    "- 정의 : f−m/2* sqaure(2norm(∥x∥)), with m>0 가 convex 이면 f는 strongly convex이다.\n",
    "- https://xingyuzhou.org/blog/notes/strong-convexity#:~:text=Intuitively%20speaking%2C%20strong%20convexity%20means,grater%20than%20the%20linear%20growth.\n",
    "- http://www.stat.cmu.edu/~larry/=sml/convexopt.pdf\n",
    "- https://ai.stanford.edu/~gwthomas/notes/convexity.pdf\n",
    "- https://statisticaloddsandends.wordpress.com/2020/05/14/strictly-strongly-convex-functions/\n",
    "\n",
    "### Q1\n",
    "- why strict와 strong을 정의하는지?"
   ]
  },
  {
   "cell_type": "markdown",
   "metadata": {},
   "source": [
    "## 종류\n",
    "- Exponential function\n",
    "- Power function\n",
    "- affine\n",
    "- quadratic\n",
    "- least squares loss\n",
    "- norm\n",
    "- indicator function\n",
    "- support function\n",
    "- max function\n",
    "\n",
    "### Univariate function\n",
    "\n",
    "### Power function\n",
    "\n",
    "### Affine 함수\n",
    "- 정의 : inear 함수를 포함한 모든 affine 함수 f(x)=aTx+b 는 다음 식을 만족한다.\n",
    "- f(θx+(1−θ)y)=aT(θx+(1−θ)y)+b=θaTx+(1−θ)aTy+θb+(1−θ)b=θf(x)+(1−θ)f(y)   for all x,y∈dom f, with 0≤θ≤1\n",
    "- affine 함수는 항상 convex이며, 동시에 concave 이다.\n",
    "\n",
    "### Quadratic function\n",
    "\n",
    "### Least squares loss\n",
    "\n",
    "### Norm\n",
    "\n",
    "### Indicator function\n",
    "\n",
    "### Support function\n",
    "\n",
    "### Max function"
   ]
  },
  {
   "cell_type": "markdown",
   "metadata": {},
   "source": [
    "### 2. General composition\n",
    "n차원에서 1차원으로 매핑하는 함수 g와 1차원에서 1차원으로 매핑하는 함수 h가 있다고 가정하자.\n",
    "이 두 함수의 합성함수 f(x)=h(g(x))는 다음의 경우 convex이거나 concave 이다.\n",
    "\n",
    "composition of g:Rn→R and h:R→R:\n",
    "f(x)=h(g(x))\n",
    "- g가 convex이고 h가 convex이며 h가 감소하지 않으면 (nondecreasing) f는 convex 이다.\n",
    "- g가 concave이고 h가 convex이며 h가 증가하지 않으면 (nonincreasing) f는 convex 이다.\n",
    "- g가 concave이고 h가 concave이며 h가 감소하지 않으면 (nondecreasing) f는 concave 이다.\n",
    "- g가 convex이고 h가 concave이며 h가 증가하지 않으면 (nonincreasing) f는 concave 이다.\n",
    "\n",
    "#### proof\n",
    "- for n=1 diﬀerentiable g,h\n",
    "- f′′(x)=h′′(g(x))g′(x)2+h′(g(x))g′′(x)\n",
    "\n",
    "#### [note]\n",
    "extended-value extension h에 대한 단조성(monotonicity)은 반드시 유지되어야 한다.\n",
    "\n",
    "#### Example\n",
    "- g가 convex이면, expg(x)는 convex 이다.\n",
    "- g가 concave이고 positive 하면, 1/g(x)는 convex 이다."
   ]
  },
  {
   "cell_type": "code",
   "execution_count": null,
   "metadata": {},
   "outputs": [],
   "source": [
    "- pointwise example\n",
    "https://github.com/OscarEngelbrektson/SyntheticControlMethods/blob/master/examples/user_guide.ipynb"
   ]
  }
 ],
 "metadata": {
  "kernelspec": {
   "display_name": "Python 3",
   "language": "python",
   "name": "python3"
  },
  "language_info": {
   "codemirror_mode": {
    "name": "ipython",
    "version": 3
   },
   "file_extension": ".py",
   "mimetype": "text/x-python",
   "name": "python",
   "nbconvert_exporter": "python",
   "pygments_lexer": "ipython3",
   "version": "3.8.3"
  }
 },
 "nbformat": 4,
 "nbformat_minor": 4
}
