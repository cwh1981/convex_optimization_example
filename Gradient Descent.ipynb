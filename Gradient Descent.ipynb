{
 "cells": [
  {
   "cell_type": "markdown",
   "metadata": {},
   "source": [
    "https://ruder.io/optimizing-gradient-descent/\n",
    "https://colab.research.google.com/github/cvxgrp/cvxpy/blob/master/examples/notebooks/derivatives/fundamentals.ipynb#scrollTo=vGcz1YHSEEBV\n",
    "\n",
    "https://colab.research.google.com/github/cvxgrp/cvxpy/blob/master/examples/notebooks/derivatives/queuing_design.ipynb\n",
    "\n",
    "** Reference\n",
    "- http://www.stat.cmu.edu/~ryantibs/convexopt-F16/\n",
    "- https://www.youtube.com/watch?v=VNON98dKjno&list=PLoCMsyE1cvdXeoqd1hGaMBsCAQQ6otUtO\n",
    "- https://web.stanford.edu/~boyd/cvxbook/"
   ]
  },
  {
   "cell_type": "markdown",
   "metadata": {},
   "source": [
    "### lipschitz\n",
    "\n",
    "lipschitz continuous gradient interpretation\n",
    "lipschitz continuous gradient meaning\n",
    "https://homes.cs.washington.edu/~marcotcr/blog/lipschitz/\n",
    "https://xingyuzhou.org/blog/notes/Lipschitz-gradient\n",
    "\n",
    "https://en.wikipedia.org/wiki/Lipschitz_continuity\n",
    "https://medium.com/generate-vision/the-paperoftheweek-44-was-sorting-out-lipschitz-function-approximation-ac5a241cadf1\n",
    "\n",
    "https://web.eecs.umich.edu/~fessler/course/598/l/n-03-gd.pdf"
   ]
  }
 ],
 "metadata": {
  "kernelspec": {
   "display_name": "Python 3",
   "language": "python",
   "name": "python3"
  },
  "language_info": {
   "codemirror_mode": {
    "name": "ipython",
    "version": 3
   },
   "file_extension": ".py",
   "mimetype": "text/x-python",
   "name": "python",
   "nbconvert_exporter": "python",
   "pygments_lexer": "ipython3",
   "version": "3.8.3"
  }
 },
 "nbformat": 4,
 "nbformat_minor": 4
}
